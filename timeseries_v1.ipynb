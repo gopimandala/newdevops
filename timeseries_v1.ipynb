{
  "nbformat": 4,
  "nbformat_minor": 0,
  "metadata": {
    "colab": {
      "name": "timeseries_v1.ipynb",
      "provenance": [],
      "collapsed_sections": [],
      "authorship_tag": "ABX9TyPyzeNz72HTx7/VyE2PuVcy",
      "include_colab_link": true
    },
    "kernelspec": {
      "name": "python3",
      "display_name": "Python 3"
    },
    "language_info": {
      "name": "python"
    }
  },
  "cells": [
    {
      "cell_type": "markdown",
      "metadata": {
        "id": "view-in-github",
        "colab_type": "text"
      },
      "source": [
        "<a href=\"https://colab.research.google.com/github/gopimandala/newdevops/blob/master/timeseries_v1.ipynb\" target=\"_parent\"><img src=\"https://colab.research.google.com/assets/colab-badge.svg\" alt=\"Open In Colab\"/></a>"
      ]
    },
    {
      "cell_type": "code",
      "execution_count": 1,
      "metadata": {
        "id": "CC6mgFtJ0nIe"
      },
      "outputs": [],
      "source": [
        "# Download Bitcoin historical data from GitHub \n",
        "# Note: you'll need to select \"Raw\" to download the data in the correct format\n",
        "# !wget https://raw.githubusercontent.com/mrdbourke/tensorflow-deep-learning/main/extras/BTC_USD_2013-10-01_2021-05-18-CoinDesk.csv"
      ]
    },
    {
      "cell_type": "code",
      "source": [
        "import os\n",
        "os.listdir('/content')"
      ],
      "metadata": {
        "colab": {
          "base_uri": "https://localhost:8080/"
        },
        "id": "bZSqczNL09gL",
        "outputId": "90a3d129-cda2-47d8-aeb3-43464261310b"
      },
      "execution_count": 2,
      "outputs": [
        {
          "output_type": "execute_result",
          "data": {
            "text/plain": [
              "['.config',\n",
              " 'BTC_USD_2013-10-01_2021-05-18-CoinDesk.csv',\n",
              " 'model_experiments',\n",
              " 'sample_data']"
            ]
          },
          "metadata": {},
          "execution_count": 2
        }
      ]
    },
    {
      "cell_type": "code",
      "source": [
        "# Import with pandas \n",
        "import pandas as pd\n",
        "# Parse dates and set date column to index\n",
        "df = pd.read_csv(\"/content/BTC_USD_2013-10-01_2021-05-18-CoinDesk.csv\", \n",
        "                 parse_dates=[\"Date\"], \n",
        "                 index_col=[\"Date\"]) # parse the date column (tell pandas column 1 is a datetime)\n",
        "df.head()"
      ],
      "metadata": {
        "colab": {
          "base_uri": "https://localhost:8080/",
          "height": 238
        },
        "id": "liBJzh2707GQ",
        "outputId": "741bdad1-7124-4740-e014-b35af58d000c"
      },
      "execution_count": 3,
      "outputs": [
        {
          "output_type": "execute_result",
          "data": {
            "text/plain": [
              "           Currency  Closing Price (USD)  24h Open (USD)  24h High (USD)  \\\n",
              "Date                                                                       \n",
              "2013-10-01      BTC            123.65499       124.30466       124.75166   \n",
              "2013-10-02      BTC            125.45500       123.65499       125.75850   \n",
              "2013-10-03      BTC            108.58483       125.45500       125.66566   \n",
              "2013-10-04      BTC            118.67466       108.58483       118.67500   \n",
              "2013-10-05      BTC            121.33866       118.67466       121.93633   \n",
              "\n",
              "            24h Low (USD)  \n",
              "Date                       \n",
              "2013-10-01      122.56349  \n",
              "2013-10-02      123.63383  \n",
              "2013-10-03       83.32833  \n",
              "2013-10-04      107.05816  \n",
              "2013-10-05      118.00566  "
            ],
            "text/html": [
              "\n",
              "  <div id=\"df-58506535-3509-4f77-8340-14c3205222a7\">\n",
              "    <div class=\"colab-df-container\">\n",
              "      <div>\n",
              "<style scoped>\n",
              "    .dataframe tbody tr th:only-of-type {\n",
              "        vertical-align: middle;\n",
              "    }\n",
              "\n",
              "    .dataframe tbody tr th {\n",
              "        vertical-align: top;\n",
              "    }\n",
              "\n",
              "    .dataframe thead th {\n",
              "        text-align: right;\n",
              "    }\n",
              "</style>\n",
              "<table border=\"1\" class=\"dataframe\">\n",
              "  <thead>\n",
              "    <tr style=\"text-align: right;\">\n",
              "      <th></th>\n",
              "      <th>Currency</th>\n",
              "      <th>Closing Price (USD)</th>\n",
              "      <th>24h Open (USD)</th>\n",
              "      <th>24h High (USD)</th>\n",
              "      <th>24h Low (USD)</th>\n",
              "    </tr>\n",
              "    <tr>\n",
              "      <th>Date</th>\n",
              "      <th></th>\n",
              "      <th></th>\n",
              "      <th></th>\n",
              "      <th></th>\n",
              "      <th></th>\n",
              "    </tr>\n",
              "  </thead>\n",
              "  <tbody>\n",
              "    <tr>\n",
              "      <th>2013-10-01</th>\n",
              "      <td>BTC</td>\n",
              "      <td>123.65499</td>\n",
              "      <td>124.30466</td>\n",
              "      <td>124.75166</td>\n",
              "      <td>122.56349</td>\n",
              "    </tr>\n",
              "    <tr>\n",
              "      <th>2013-10-02</th>\n",
              "      <td>BTC</td>\n",
              "      <td>125.45500</td>\n",
              "      <td>123.65499</td>\n",
              "      <td>125.75850</td>\n",
              "      <td>123.63383</td>\n",
              "    </tr>\n",
              "    <tr>\n",
              "      <th>2013-10-03</th>\n",
              "      <td>BTC</td>\n",
              "      <td>108.58483</td>\n",
              "      <td>125.45500</td>\n",
              "      <td>125.66566</td>\n",
              "      <td>83.32833</td>\n",
              "    </tr>\n",
              "    <tr>\n",
              "      <th>2013-10-04</th>\n",
              "      <td>BTC</td>\n",
              "      <td>118.67466</td>\n",
              "      <td>108.58483</td>\n",
              "      <td>118.67500</td>\n",
              "      <td>107.05816</td>\n",
              "    </tr>\n",
              "    <tr>\n",
              "      <th>2013-10-05</th>\n",
              "      <td>BTC</td>\n",
              "      <td>121.33866</td>\n",
              "      <td>118.67466</td>\n",
              "      <td>121.93633</td>\n",
              "      <td>118.00566</td>\n",
              "    </tr>\n",
              "  </tbody>\n",
              "</table>\n",
              "</div>\n",
              "      <button class=\"colab-df-convert\" onclick=\"convertToInteractive('df-58506535-3509-4f77-8340-14c3205222a7')\"\n",
              "              title=\"Convert this dataframe to an interactive table.\"\n",
              "              style=\"display:none;\">\n",
              "        \n",
              "  <svg xmlns=\"http://www.w3.org/2000/svg\" height=\"24px\"viewBox=\"0 0 24 24\"\n",
              "       width=\"24px\">\n",
              "    <path d=\"M0 0h24v24H0V0z\" fill=\"none\"/>\n",
              "    <path d=\"M18.56 5.44l.94 2.06.94-2.06 2.06-.94-2.06-.94-.94-2.06-.94 2.06-2.06.94zm-11 1L8.5 8.5l.94-2.06 2.06-.94-2.06-.94L8.5 2.5l-.94 2.06-2.06.94zm10 10l.94 2.06.94-2.06 2.06-.94-2.06-.94-.94-2.06-.94 2.06-2.06.94z\"/><path d=\"M17.41 7.96l-1.37-1.37c-.4-.4-.92-.59-1.43-.59-.52 0-1.04.2-1.43.59L10.3 9.45l-7.72 7.72c-.78.78-.78 2.05 0 2.83L4 21.41c.39.39.9.59 1.41.59.51 0 1.02-.2 1.41-.59l7.78-7.78 2.81-2.81c.8-.78.8-2.07 0-2.86zM5.41 20L4 18.59l7.72-7.72 1.47 1.35L5.41 20z\"/>\n",
              "  </svg>\n",
              "      </button>\n",
              "      \n",
              "  <style>\n",
              "    .colab-df-container {\n",
              "      display:flex;\n",
              "      flex-wrap:wrap;\n",
              "      gap: 12px;\n",
              "    }\n",
              "\n",
              "    .colab-df-convert {\n",
              "      background-color: #E8F0FE;\n",
              "      border: none;\n",
              "      border-radius: 50%;\n",
              "      cursor: pointer;\n",
              "      display: none;\n",
              "      fill: #1967D2;\n",
              "      height: 32px;\n",
              "      padding: 0 0 0 0;\n",
              "      width: 32px;\n",
              "    }\n",
              "\n",
              "    .colab-df-convert:hover {\n",
              "      background-color: #E2EBFA;\n",
              "      box-shadow: 0px 1px 2px rgba(60, 64, 67, 0.3), 0px 1px 3px 1px rgba(60, 64, 67, 0.15);\n",
              "      fill: #174EA6;\n",
              "    }\n",
              "\n",
              "    [theme=dark] .colab-df-convert {\n",
              "      background-color: #3B4455;\n",
              "      fill: #D2E3FC;\n",
              "    }\n",
              "\n",
              "    [theme=dark] .colab-df-convert:hover {\n",
              "      background-color: #434B5C;\n",
              "      box-shadow: 0px 1px 3px 1px rgba(0, 0, 0, 0.15);\n",
              "      filter: drop-shadow(0px 1px 2px rgba(0, 0, 0, 0.3));\n",
              "      fill: #FFFFFF;\n",
              "    }\n",
              "  </style>\n",
              "\n",
              "      <script>\n",
              "        const buttonEl =\n",
              "          document.querySelector('#df-58506535-3509-4f77-8340-14c3205222a7 button.colab-df-convert');\n",
              "        buttonEl.style.display =\n",
              "          google.colab.kernel.accessAllowed ? 'block' : 'none';\n",
              "\n",
              "        async function convertToInteractive(key) {\n",
              "          const element = document.querySelector('#df-58506535-3509-4f77-8340-14c3205222a7');\n",
              "          const dataTable =\n",
              "            await google.colab.kernel.invokeFunction('convertToInteractive',\n",
              "                                                     [key], {});\n",
              "          if (!dataTable) return;\n",
              "\n",
              "          const docLinkHtml = 'Like what you see? Visit the ' +\n",
              "            '<a target=\"_blank\" href=https://colab.research.google.com/notebooks/data_table.ipynb>data table notebook</a>'\n",
              "            + ' to learn more about interactive tables.';\n",
              "          element.innerHTML = '';\n",
              "          dataTable['output_type'] = 'display_data';\n",
              "          await google.colab.output.renderOutput(dataTable, element);\n",
              "          const docLink = document.createElement('div');\n",
              "          docLink.innerHTML = docLinkHtml;\n",
              "          element.appendChild(docLink);\n",
              "        }\n",
              "      </script>\n",
              "    </div>\n",
              "  </div>\n",
              "  "
            ]
          },
          "metadata": {},
          "execution_count": 3
        }
      ]
    },
    {
      "cell_type": "code",
      "source": [
        "# df.info(), len(df)"
      ],
      "metadata": {
        "id": "47-cPOXL2EfL"
      },
      "execution_count": 4,
      "outputs": []
    },
    {
      "cell_type": "code",
      "source": [
        "# Only want closing price for each day \n",
        "bitcoin_prices = pd.DataFrame(df[\"Closing Price (USD)\"]).rename(columns={\"Closing Price (USD)\": \"Price\"})\n",
        "bitcoin_prices.head()"
      ],
      "metadata": {
        "colab": {
          "base_uri": "https://localhost:8080/",
          "height": 238
        },
        "id": "nkdD667kCCSJ",
        "outputId": "8993d184-ab13-4f82-f13c-5383de6f951e"
      },
      "execution_count": 5,
      "outputs": [
        {
          "output_type": "execute_result",
          "data": {
            "text/plain": [
              "                Price\n",
              "Date                 \n",
              "2013-10-01  123.65499\n",
              "2013-10-02  125.45500\n",
              "2013-10-03  108.58483\n",
              "2013-10-04  118.67466\n",
              "2013-10-05  121.33866"
            ],
            "text/html": [
              "\n",
              "  <div id=\"df-c2fa4f43-1114-4616-a091-3ba8185d5422\">\n",
              "    <div class=\"colab-df-container\">\n",
              "      <div>\n",
              "<style scoped>\n",
              "    .dataframe tbody tr th:only-of-type {\n",
              "        vertical-align: middle;\n",
              "    }\n",
              "\n",
              "    .dataframe tbody tr th {\n",
              "        vertical-align: top;\n",
              "    }\n",
              "\n",
              "    .dataframe thead th {\n",
              "        text-align: right;\n",
              "    }\n",
              "</style>\n",
              "<table border=\"1\" class=\"dataframe\">\n",
              "  <thead>\n",
              "    <tr style=\"text-align: right;\">\n",
              "      <th></th>\n",
              "      <th>Price</th>\n",
              "    </tr>\n",
              "    <tr>\n",
              "      <th>Date</th>\n",
              "      <th></th>\n",
              "    </tr>\n",
              "  </thead>\n",
              "  <tbody>\n",
              "    <tr>\n",
              "      <th>2013-10-01</th>\n",
              "      <td>123.65499</td>\n",
              "    </tr>\n",
              "    <tr>\n",
              "      <th>2013-10-02</th>\n",
              "      <td>125.45500</td>\n",
              "    </tr>\n",
              "    <tr>\n",
              "      <th>2013-10-03</th>\n",
              "      <td>108.58483</td>\n",
              "    </tr>\n",
              "    <tr>\n",
              "      <th>2013-10-04</th>\n",
              "      <td>118.67466</td>\n",
              "    </tr>\n",
              "    <tr>\n",
              "      <th>2013-10-05</th>\n",
              "      <td>121.33866</td>\n",
              "    </tr>\n",
              "  </tbody>\n",
              "</table>\n",
              "</div>\n",
              "      <button class=\"colab-df-convert\" onclick=\"convertToInteractive('df-c2fa4f43-1114-4616-a091-3ba8185d5422')\"\n",
              "              title=\"Convert this dataframe to an interactive table.\"\n",
              "              style=\"display:none;\">\n",
              "        \n",
              "  <svg xmlns=\"http://www.w3.org/2000/svg\" height=\"24px\"viewBox=\"0 0 24 24\"\n",
              "       width=\"24px\">\n",
              "    <path d=\"M0 0h24v24H0V0z\" fill=\"none\"/>\n",
              "    <path d=\"M18.56 5.44l.94 2.06.94-2.06 2.06-.94-2.06-.94-.94-2.06-.94 2.06-2.06.94zm-11 1L8.5 8.5l.94-2.06 2.06-.94-2.06-.94L8.5 2.5l-.94 2.06-2.06.94zm10 10l.94 2.06.94-2.06 2.06-.94-2.06-.94-.94-2.06-.94 2.06-2.06.94z\"/><path d=\"M17.41 7.96l-1.37-1.37c-.4-.4-.92-.59-1.43-.59-.52 0-1.04.2-1.43.59L10.3 9.45l-7.72 7.72c-.78.78-.78 2.05 0 2.83L4 21.41c.39.39.9.59 1.41.59.51 0 1.02-.2 1.41-.59l7.78-7.78 2.81-2.81c.8-.78.8-2.07 0-2.86zM5.41 20L4 18.59l7.72-7.72 1.47 1.35L5.41 20z\"/>\n",
              "  </svg>\n",
              "      </button>\n",
              "      \n",
              "  <style>\n",
              "    .colab-df-container {\n",
              "      display:flex;\n",
              "      flex-wrap:wrap;\n",
              "      gap: 12px;\n",
              "    }\n",
              "\n",
              "    .colab-df-convert {\n",
              "      background-color: #E8F0FE;\n",
              "      border: none;\n",
              "      border-radius: 50%;\n",
              "      cursor: pointer;\n",
              "      display: none;\n",
              "      fill: #1967D2;\n",
              "      height: 32px;\n",
              "      padding: 0 0 0 0;\n",
              "      width: 32px;\n",
              "    }\n",
              "\n",
              "    .colab-df-convert:hover {\n",
              "      background-color: #E2EBFA;\n",
              "      box-shadow: 0px 1px 2px rgba(60, 64, 67, 0.3), 0px 1px 3px 1px rgba(60, 64, 67, 0.15);\n",
              "      fill: #174EA6;\n",
              "    }\n",
              "\n",
              "    [theme=dark] .colab-df-convert {\n",
              "      background-color: #3B4455;\n",
              "      fill: #D2E3FC;\n",
              "    }\n",
              "\n",
              "    [theme=dark] .colab-df-convert:hover {\n",
              "      background-color: #434B5C;\n",
              "      box-shadow: 0px 1px 3px 1px rgba(0, 0, 0, 0.15);\n",
              "      filter: drop-shadow(0px 1px 2px rgba(0, 0, 0, 0.3));\n",
              "      fill: #FFFFFF;\n",
              "    }\n",
              "  </style>\n",
              "\n",
              "      <script>\n",
              "        const buttonEl =\n",
              "          document.querySelector('#df-c2fa4f43-1114-4616-a091-3ba8185d5422 button.colab-df-convert');\n",
              "        buttonEl.style.display =\n",
              "          google.colab.kernel.accessAllowed ? 'block' : 'none';\n",
              "\n",
              "        async function convertToInteractive(key) {\n",
              "          const element = document.querySelector('#df-c2fa4f43-1114-4616-a091-3ba8185d5422');\n",
              "          const dataTable =\n",
              "            await google.colab.kernel.invokeFunction('convertToInteractive',\n",
              "                                                     [key], {});\n",
              "          if (!dataTable) return;\n",
              "\n",
              "          const docLinkHtml = 'Like what you see? Visit the ' +\n",
              "            '<a target=\"_blank\" href=https://colab.research.google.com/notebooks/data_table.ipynb>data table notebook</a>'\n",
              "            + ' to learn more about interactive tables.';\n",
              "          element.innerHTML = '';\n",
              "          dataTable['output_type'] = 'display_data';\n",
              "          await google.colab.output.renderOutput(dataTable, element);\n",
              "          const docLink = document.createElement('div');\n",
              "          docLink.innerHTML = docLinkHtml;\n",
              "          element.appendChild(docLink);\n",
              "        }\n",
              "      </script>\n",
              "    </div>\n",
              "  </div>\n",
              "  "
            ]
          },
          "metadata": {},
          "execution_count": 5
        }
      ]
    },
    {
      "cell_type": "code",
      "source": [
        "import matplotlib.pyplot as plt\n",
        "bitcoin_prices.plot(figsize=(10,7))"
      ],
      "metadata": {
        "colab": {
          "base_uri": "https://localhost:8080/",
          "height": 459
        },
        "id": "cMTo4jzuC7A7",
        "outputId": "e732ea02-c10b-4a60-fb66-7771e8ff4a0c"
      },
      "execution_count": 6,
      "outputs": [
        {
          "output_type": "execute_result",
          "data": {
            "text/plain": [
              "<matplotlib.axes._subplots.AxesSubplot at 0x7f05887575d0>"
            ]
          },
          "metadata": {},
          "execution_count": 6
        },
        {
          "output_type": "display_data",
          "data": {
            "text/plain": [
              "<Figure size 720x504 with 1 Axes>"
            ],
            "image/png": "[encoded data removed]"
          },
          "metadata": {
            "needs_background": "light"
          }
        }
      ]
    },
    {
      "cell_type": "code",
      "source": [
        "prices = bitcoin_prices['Price'].to_numpy()\n",
        "timesteps = bitcoin_prices.index.to_numpy()\n",
        "len(prices), timesteps[0:2]"
      ],
      "metadata": {
        "colab": {
          "base_uri": "https://localhost:8080/"
        },
        "id": "_6GIAk4dDQVp",
        "outputId": "085edcdc-3d24-4370-b913-b7f926c4430e"
      },
      "execution_count": 7,
      "outputs": [
        {
          "output_type": "execute_result",
          "data": {
            "text/plain": [
              "(2787,\n",
              " array(['2013-10-01T00:00:00.000000000', '2013-10-02T00:00:00.000000000'],\n",
              "       dtype='datetime64[ns]'))"
            ]
          },
          "metadata": {},
          "execution_count": 7
        }
      ]
    },
    {
      "cell_type": "code",
      "source": [
        "trainsize = int(0.8*len(prices))\n",
        "trainsize"
      ],
      "metadata": {
        "colab": {
          "base_uri": "https://localhost:8080/"
        },
        "id": "nIpeX9nBFfZO",
        "outputId": "009935d2-bed1-4304-c56e-989b42874077"
      },
      "execution_count": 8,
      "outputs": [
        {
          "output_type": "execute_result",
          "data": {
            "text/plain": [
              "2229"
            ]
          },
          "metadata": {},
          "execution_count": 8
        }
      ]
    },
    {
      "cell_type": "code",
      "source": [
        "xtrain, xtest = timesteps[:trainsize], timesteps[trainsize:]\n",
        "ytrain, ytest = prices[:trainsize], prices[trainsize:]"
      ],
      "metadata": {
        "id": "un-lfhgtFo_U"
      },
      "execution_count": 9,
      "outputs": []
    },
    {
      "cell_type": "code",
      "source": [
        "plt.figure(figsize=(12,5))\n",
        "plt.scatter(xtrain,ytrain,s=1)\n",
        "plt.scatter(xtest,ytest,s=1)"
      ],
      "metadata": {
        "colab": {
          "base_uri": "https://localhost:8080/",
          "height": 337
        },
        "id": "7772Eo0QG1sH",
        "outputId": "89b6c1e0-a899-4a2f-8f11-d26a1e9f9118"
      },
      "execution_count": 10,
      "outputs": [
        {
          "output_type": "execute_result",
          "data": {
            "text/plain": [
              "<matplotlib.collections.PathCollection at 0x7f057c129a90>"
            ]
          },
          "metadata": {},
          "execution_count": 10
        },
        {
          "output_type": "display_data",
          "data": {
            "text/plain": [
              "<Figure size 864x360 with 1 Axes>"
            ],
            "image/png": "[encoded data removed]"
          },
          "metadata": {
            "needs_background": "light"
          }
        }
      ]
    },
    {
      "cell_type": "code",
      "source": [
        "naivefc = ytest[:-1]\n",
        "len(naivefc), len(ytest)"
      ],
      "metadata": {
        "colab": {
          "base_uri": "https://localhost:8080/"
        },
        "id": "CBFmWtp6Iy3N",
        "outputId": "f32cd24f-182d-4270-d3e5-0ca605ad7f67"
      },
      "execution_count": 11,
      "outputs": [
        {
          "output_type": "execute_result",
          "data": {
            "text/plain": [
              "(557, 558)"
            ]
          },
          "metadata": {},
          "execution_count": 11
        }
      ]
    },
    {
      "cell_type": "code",
      "source": [
        "import tensorflow as tf\n",
        "mae = tf.keras.metrics.mean_absolute_error(ytest[1:],naivefc)\n",
        "mse = tf.keras.metrics.mean_squared_error(ytest[1:],naivefc)\n",
        "rmse = tf.sqrt(mse)\n",
        "mape = tf.keras.metrics.mean_absolute_percentage_error(ytest[1:],naivefc)\n",
        "mae, mse, rmse, mape"
      ],
      "metadata": {
        "colab": {
          "base_uri": "https://localhost:8080/"
        },
        "id": "tevkQS9QJ8Mb",
        "outputId": "90e04c49-301b-4a2d-81f3-206629da86b9"
      },
      "execution_count": 12,
      "outputs": [
        {
          "output_type": "execute_result",
          "data": {
            "text/plain": [
              "(<tf.Tensor: shape=(), dtype=float64, numpy=567.9802273457541>,\n",
              " <tf.Tensor: shape=(), dtype=float64, numpy=1147547.125023896>,\n",
              " <tf.Tensor: shape=(), dtype=float64, numpy=1071.2362601330744>,\n",
              " <tf.Tensor: shape=(), dtype=float64, numpy=2.516524929982267>)"
            ]
          },
          "metadata": {},
          "execution_count": 12
        }
      ]
    },
    {
      "cell_type": "code",
      "source": [
        "# Find average price of Bitcoin in test dataset\n",
        "tf.reduce_mean(ytest).numpy()"
      ],
      "metadata": {
        "colab": {
          "base_uri": "https://localhost:8080/"
        },
        "id": "9ylglwoNNe9b",
        "outputId": "d187ec7d-f01c-4683-9746-921f882e7742"
      },
      "execution_count": 13,
      "outputs": [
        {
          "output_type": "execute_result",
          "data": {
            "text/plain": [
              "20056.632963737226"
            ]
          },
          "metadata": {},
          "execution_count": 13
        }
      ]
    },
    {
      "cell_type": "code",
      "source": [
        "import numpy as np\n",
        "horizon = 1 # predict 1 step at a time\n",
        "window_size = 3 # use a week worth of timesteps to predict the horizon"
      ],
      "metadata": {
        "id": "zi68KGwqc4r-"
      },
      "execution_count": 14,
      "outputs": []
    },
    {
      "cell_type": "code",
      "source": [
        "# Create function to label windowed data\n",
        "def get_labelled_windows(x, horizon=1):\n",
        "  \"\"\"\n",
        "  Creates labels for windowed dataset.\n",
        "  E.g. if horizon=1 (default)\n",
        "  Input: [1, 2, 3, 4, 5, 6] -> Output: ([1, 2, 3, 4, 5], [6])\n",
        "  \"\"\"\n",
        "  return x[:, :-horizon], x[:, -horizon:]\n",
        "\n",
        "# Create function to view NumPy arrays as windows \n",
        "def make_windows(x, window_size=7, horizon=1):\n",
        "  \"\"\"\n",
        "  Turns a 1D array into a 2D array of sequential windows of window_size.\n",
        "  \"\"\"\n",
        "  # 1. Create a window of specific window_size (add the horizon on the end for later labelling)\n",
        "  window_step = np.expand_dims(np.arange(window_size+horizon), axis=0)\n",
        "  # print(f\"Window step:\\n {window_step}\")\n",
        "\n",
        "  # 2. Create a 2D array of multiple window steps (minus 1 to account for 0 indexing)\n",
        "  window_indexes = window_step + np.expand_dims(np.arange(len(x)-(window_size+horizon-1)), axis=0).T # create 2D array of windows of size window_size\n",
        "  # print(f\"Window indexes:\\n {window_indexes[:3], window_indexes[-3:], window_indexes.shape}\")\n",
        "\n",
        "  # 3. Index on the target array (time series) with 2D array of multiple window steps\n",
        "  windowed_array = x[window_indexes]\n",
        "\n",
        "  # 4. Get the labelled windows\n",
        "  windows, labels = get_labelled_windows(windowed_array, horizon=horizon)\n",
        "\n",
        "  return windows, labels"
      ],
      "metadata": {
        "id": "GTIKnG_acegl"
      },
      "execution_count": 15,
      "outputs": []
    },
    {
      "cell_type": "code",
      "source": [
        "full_windows, full_labels = make_windows(prices, window_size=window_size, horizon=horizon)\n",
        "len(full_windows), len(full_labels)"
      ],
      "metadata": {
        "colab": {
          "base_uri": "https://localhost:8080/"
        },
        "id": "qxvQwvFElhki",
        "outputId": "489a3b16-c125-4706-f2f3-6871b64722b1"
      },
      "execution_count": 16,
      "outputs": [
        {
          "output_type": "execute_result",
          "data": {
            "text/plain": [
              "(2784, 2784)"
            ]
          },
          "metadata": {},
          "execution_count": 16
        }
      ]
    },
    {
      "cell_type": "code",
      "source": [
        "# View the first 3 windows/labels\n",
        "for i in range(3):\n",
        "  print(f\"Window: {full_windows[i]} , Label: {full_labels[i]}\")"
      ],
      "metadata": {
        "colab": {
          "base_uri": "https://localhost:8080/"
        },
        "id": "WmxHCEiWlitH",
        "outputId": "d20330e6-af46-433a-ab0f-057f745cee8a"
      },
      "execution_count": 17,
      "outputs": [
        {
          "output_type": "stream",
          "name": "stdout",
          "text": [
            "Window: [123.65499 125.455   108.58483] , Label: [118.67466]\n",
            "Window: [125.455   108.58483 118.67466] , Label: [121.33866]\n",
            "Window: [108.58483 118.67466 121.33866] , Label: [120.65533]\n"
          ]
        }
      ]
    },
    {
      "cell_type": "code",
      "source": [
        "# Make the train/test splits\n",
        "def make_train_test_splits(windows, labels, test_split=0.2):\n",
        "  \"\"\"\n",
        "  Splits matching pairs of windows and labels into train and test splits.\n",
        "  \"\"\"\n",
        "  split_size = int(len(windows) * (1-test_split)) # this will default to 80% train/20% test\n",
        "  train_windows = windows[:split_size]\n",
        "  train_labels = labels[:split_size]\n",
        "  test_windows = windows[split_size:]\n",
        "  test_labels = labels[split_size:]\n",
        "  return train_windows, test_windows, train_labels, test_labels"
      ],
      "metadata": {
        "id": "gbxhCsa4wqgC"
      },
      "execution_count": 18,
      "outputs": []
    },
    {
      "cell_type": "code",
      "source": [
        "train_windows, test_windows, train_labels, test_labels = make_train_test_splits(full_windows, full_labels)\n",
        "len(train_windows), len(test_windows), len(train_labels), len(test_labels)"
      ],
      "metadata": {
        "colab": {
          "base_uri": "https://localhost:8080/"
        },
        "id": "_L60Woj4wrql",
        "outputId": "d20657a3-03a0-4634-ea64-e5b2d58b3d40"
      },
      "execution_count": 19,
      "outputs": [
        {
          "output_type": "execute_result",
          "data": {
            "text/plain": [
              "(2227, 557, 2227, 557)"
            ]
          },
          "metadata": {},
          "execution_count": 19
        }
      ]
    },
    {
      "cell_type": "code",
      "source": [
        "train_windows[:5], train_labels[:5]"
      ],
      "metadata": {
        "colab": {
          "base_uri": "https://localhost:8080/"
        },
        "id": "8P6wc121wvay",
        "outputId": "4fa29c62-be47-4f99-8f2e-6095d5d3fabb"
      },
      "execution_count": 20,
      "outputs": [
        {
          "output_type": "execute_result",
          "data": {
            "text/plain": [
              "(array([[123.65499, 125.455  , 108.58483],\n",
              "        [125.455  , 108.58483, 118.67466],\n",
              "        [108.58483, 118.67466, 121.33866],\n",
              "        [118.67466, 121.33866, 120.65533],\n",
              "        [121.33866, 120.65533, 121.795  ]]), array([[118.67466],\n",
              "        [121.33866],\n",
              "        [120.65533],\n",
              "        [121.795  ],\n",
              "        [123.033  ]]))"
            ]
          },
          "metadata": {},
          "execution_count": 20
        }
      ]
    },
    {
      "cell_type": "code",
      "source": [
        "# Check to see if same (accounting for horizon and window size)\n",
        "np.array_equal(np.squeeze(train_labels[:-horizon-1]), ytrain[window_size:])"
      ],
      "metadata": {
        "colab": {
          "base_uri": "https://localhost:8080/"
        },
        "id": "faIqtkmDw1CV",
        "outputId": "10b9739c-6921-4346-cd7a-f53b3c989804"
      },
      "execution_count": 21,
      "outputs": [
        {
          "output_type": "execute_result",
          "data": {
            "text/plain": [
              "False"
            ]
          },
          "metadata": {},
          "execution_count": 21
        }
      ]
    },
    {
      "cell_type": "code",
      "source": [
        "import os\n",
        "\n",
        "# Create a function to implement a ModelCheckpoint callback with a specific filename \n",
        "def create_model_checkpoint(model_name, save_path=\"model_experiments\"):\n",
        "  return tf.keras.callbacks.ModelCheckpoint(filepath=os.path.join(save_path, model_name), # create filepath to save model\n",
        "                                            verbose=0, # only output a limited amount of text\n",
        "                                            save_best_only=True) # save only the best model to file"
      ],
      "metadata": {
        "id": "hGWBH4Wixblg"
      },
      "execution_count": 22,
      "outputs": []
    },
    {
      "cell_type": "code",
      "source": [
        "import tensorflow as tf\n",
        "from tensorflow.keras import layers\n",
        "\n",
        "# Set random seed for as reproducible results as possible\n",
        "tf.random.set_seed(42)\n",
        "\n",
        "# Construct model\n",
        "model_1 = tf.keras.Sequential([\n",
        "  layers.Dense(128, activation=\"relu\"),\n",
        "  layers.Dense(horizon, activation=\"linear\") # linear activation is the same as having no activation                        \n",
        "], name=\"model_1_dense\") # give the model a name so we can save it\n",
        "\n",
        "# Compile model\n",
        "model_1.compile(loss=\"mae\",\n",
        "                optimizer=tf.keras.optimizers.Adam(),\n",
        "                metrics=[\"mae\"]) # we don't necessarily need this when the loss function is already MAE\n",
        "\n",
        "# Fit model\n",
        "model_1.fit(x=train_windows, # train windows of 7 timesteps of Bitcoin prices\n",
        "            y=train_labels, # horizon value of 1 (using the previous 7 timesteps to predict next day)\n",
        "            epochs=100,\n",
        "            verbose=1,\n",
        "            batch_size=128,\n",
        "            validation_data=(test_windows, test_labels),\n",
        "            callbacks=[create_model_checkpoint(model_name=model_1.name)]) # create ModelCheckpoint callback to save best model"
      ],
      "metadata": {
        "colab": {
          "base_uri": "https://localhost:8080/"
        },
        "id": "OXab6tMlw77m",
        "outputId": "a67c2ab7-902f-410f-d020-3f444538c73b"
      },
      "execution_count": 23,
      "outputs": [
        {
          "output_type": "stream",
          "name": "stdout",
          "text": [
            "Epoch 1/100\n",
            "13/18 [====================>.........] - ETA: 0s - loss: 1548.9727 - mae: 1548.9727 INFO:tensorflow:Assets written to: model_experiments/model_1_dense/assets\n",
            "18/18 [==============================] - 3s 130ms/step - loss: 1353.4988 - mae: 1353.4988 - val_loss: 2632.2251 - val_mae: 2632.2251\n",
            "Epoch 2/100\n",
            " 1/18 [>.............................] - ETA: 0s - loss: 432.6754 - mae: 432.6754INFO:tensorflow:Assets written to: model_experiments/model_1_dense/assets\n",
            "18/18 [==============================] - 1s 70ms/step - loss: 268.9973 - mae: 268.9973 - val_loss: 874.7808 - val_mae: 874.7808\n",
            "Epoch 3/100\n",
            "15/18 [========================>.....] - ETA: 0s - loss: 167.9518 - mae: 167.9518INFO:tensorflow:Assets written to: model_experiments/model_1_dense/assets\n",
            "18/18 [==============================] - 1s 67ms/step - loss: 168.1634 - mae: 168.1634 - val_loss: 869.4909 - val_mae: 869.4909\n",
            "Epoch 4/100\n",
            "11/18 [=================>............] - ETA: 0s - loss: 156.9266 - mae: 156.9266INFO:tensorflow:Assets written to: model_experiments/model_1_dense/assets\n",
            "18/18 [==============================] - 1s 62ms/step - loss: 153.6962 - mae: 153.6962 - val_loss: 810.6486 - val_mae: 810.6486\n",
            "Epoch 5/100\n",
            "13/18 [====================>.........] - ETA: 0s - loss: 142.3350 - mae: 142.3350INFO:tensorflow:Assets written to: model_experiments/model_1_dense/assets\n",
            "18/18 [==============================] - 1s 74ms/step - loss: 146.0801 - mae: 146.0801 - val_loss: 807.1738 - val_mae: 807.1738\n",
            "Epoch 6/100\n",
            "11/18 [=================>............] - ETA: 0s - loss: 141.3119 - mae: 141.3119INFO:tensorflow:Assets written to: model_experiments/model_1_dense/assets\n",
            "18/18 [==============================] - 1s 70ms/step - loss: 145.0121 - mae: 145.0121 - val_loss: 793.3164 - val_mae: 793.3164\n",
            "Epoch 7/100\n",
            "16/18 [=========================>....] - ETA: 0s - loss: 142.2719 - mae: 142.2719INFO:tensorflow:Assets written to: model_experiments/model_1_dense/assets\n",
            "18/18 [==============================] - 2s 101ms/step - loss: 140.0080 - mae: 140.0080 - val_loss: 775.6751 - val_mae: 775.6751\n",
            "Epoch 8/100\n",
            "17/18 [===========================>..] - ETA: 0s - loss: 136.6460 - mae: 136.6460INFO:tensorflow:Assets written to: model_experiments/model_1_dense/assets\n",
            "18/18 [==============================] - 2s 91ms/step - loss: 136.6562 - mae: 136.6562 - val_loss: 752.6744 - val_mae: 752.6744\n",
            "Epoch 9/100\n",
            "18/18 [==============================] - 0s 10ms/step - loss: 136.1274 - mae: 136.1274 - val_loss: 785.4670 - val_mae: 785.4670\n",
            "Epoch 10/100\n",
            " 1/18 [>.............................] - ETA: 0s - loss: 179.9463 - mae: 179.9463INFO:tensorflow:Assets written to: model_experiments/model_1_dense/assets\n",
            "18/18 [==============================] - 2s 89ms/step - loss: 135.5577 - mae: 135.5577 - val_loss: 734.8766 - val_mae: 734.8766\n",
            "Epoch 11/100\n",
            "14/18 [======================>.......] - ETA: 0s - loss: 134.2707 - mae: 134.2707INFO:tensorflow:Assets written to: model_experiments/model_1_dense/assets\n",
            "18/18 [==============================] - 1s 62ms/step - loss: 132.6335 - mae: 132.6335 - val_loss: 726.0164 - val_mae: 726.0164\n",
            "Epoch 12/100\n",
            " 1/18 [>.............................] - ETA: 0s - loss: 157.5546 - mae: 157.5546INFO:tensorflow:Assets written to: model_experiments/model_1_dense/assets\n",
            "18/18 [==============================] - 1s 68ms/step - loss: 130.8497 - mae: 130.8497 - val_loss: 716.3897 - val_mae: 716.3897\n",
            "Epoch 13/100\n",
            "15/18 [========================>.....] - ETA: 0s - loss: 132.8092 - mae: 132.8092INFO:tensorflow:Assets written to: model_experiments/model_1_dense/assets\n",
            "18/18 [==============================] - 1s 63ms/step - loss: 131.8621 - mae: 131.8621 - val_loss: 709.5486 - val_mae: 709.5486\n",
            "Epoch 14/100\n",
            "13/18 [====================>.........] - ETA: 0s - loss: 128.4787 - mae: 128.4787INFO:tensorflow:Assets written to: model_experiments/model_1_dense/assets\n",
            "18/18 [==============================] - 1s 73ms/step - loss: 128.7833 - mae: 128.7833 - val_loss: 708.1561 - val_mae: 708.1561\n",
            "Epoch 15/100\n",
            "10/18 [===============>..............] - ETA: 0s - loss: 124.8072 - mae: 124.8072INFO:tensorflow:Assets written to: model_experiments/model_1_dense/assets\n",
            "18/18 [==============================] - 2s 109ms/step - loss: 126.5130 - mae: 126.5130 - val_loss: 692.8826 - val_mae: 692.8826\n",
            "Epoch 16/100\n",
            "17/18 [===========================>..] - ETA: 0s - loss: 125.6676 - mae: 125.6676INFO:tensorflow:Assets written to: model_experiments/model_1_dense/assets\n",
            "18/18 [==============================] - 1s 66ms/step - loss: 126.1631 - mae: 126.1631 - val_loss: 685.3053 - val_mae: 685.3053\n",
            "Epoch 17/100\n",
            "17/18 [===========================>..] - ETA: 0s - loss: 124.2187 - mae: 124.2187INFO:tensorflow:Assets written to: model_experiments/model_1_dense/assets\n",
            "18/18 [==============================] - 1s 81ms/step - loss: 124.2647 - mae: 124.2647 - val_loss: 678.3536 - val_mae: 678.3536\n",
            "Epoch 18/100\n",
            "18/18 [==============================] - 0s 10ms/step - loss: 123.0325 - mae: 123.0325 - val_loss: 714.3380 - val_mae: 714.3380\n",
            "Epoch 19/100\n",
            "17/18 [===========================>..] - ETA: 0s - loss: 122.1252 - mae: 122.1252INFO:tensorflow:Assets written to: model_experiments/model_1_dense/assets\n",
            "18/18 [==============================] - 1s 84ms/step - loss: 122.4024 - mae: 122.4024 - val_loss: 667.2204 - val_mae: 667.2204\n",
            "Epoch 20/100\n",
            "15/18 [========================>.....] - ETA: 0s - loss: 121.6016 - mae: 121.6016INFO:tensorflow:Assets written to: model_experiments/model_1_dense/assets\n",
            "18/18 [==============================] - 1s 75ms/step - loss: 120.1026 - mae: 120.1026 - val_loss: 659.7389 - val_mae: 659.7389\n",
            "Epoch 21/100\n",
            " 1/18 [>.............................] - ETA: 0s - loss: 135.5700 - mae: 135.5700INFO:tensorflow:Assets written to: model_experiments/model_1_dense/assets\n",
            "18/18 [==============================] - 1s 69ms/step - loss: 119.4249 - mae: 119.4249 - val_loss: 653.5476 - val_mae: 653.5476\n",
            "Epoch 22/100\n",
            "14/18 [======================>.......] - ETA: 0s - loss: 110.9810 - mae: 110.9810INFO:tensorflow:Assets written to: model_experiments/model_1_dense/assets\n",
            "18/18 [==============================] - 1s 66ms/step - loss: 117.2990 - mae: 117.2990 - val_loss: 639.9028 - val_mae: 639.9028\n",
            "Epoch 23/100\n",
            "12/18 [===================>..........] - ETA: 0s - loss: 120.0868 - mae: 120.0868INFO:tensorflow:Assets written to: model_experiments/model_1_dense/assets\n",
            "18/18 [==============================] - 1s 50ms/step - loss: 116.0900 - mae: 116.0900 - val_loss: 632.0699 - val_mae: 632.0699\n",
            "Epoch 24/100\n",
            " 1/18 [>.............................] - ETA: 0s - loss: 101.0457 - mae: 101.0457INFO:tensorflow:Assets written to: model_experiments/model_1_dense/assets\n",
            "18/18 [==============================] - 1s 32ms/step - loss: 115.3699 - mae: 115.3699 - val_loss: 625.6816 - val_mae: 625.6816\n",
            "Epoch 25/100\n",
            " 1/18 [>.............................] - ETA: 0s - loss: 110.7436 - mae: 110.7436INFO:tensorflow:Assets written to: model_experiments/model_1_dense/assets\n",
            "18/18 [==============================] - 1s 34ms/step - loss: 115.3478 - mae: 115.3478 - val_loss: 621.7056 - val_mae: 621.7056\n",
            "Epoch 26/100\n",
            " 1/18 [>.............................] - ETA: 0s - loss: 98.4738 - mae: 98.4738INFO:tensorflow:Assets written to: model_experiments/model_1_dense/assets\n",
            "18/18 [==============================] - 1s 33ms/step - loss: 113.8536 - mae: 113.8536 - val_loss: 616.6276 - val_mae: 616.6276\n",
            "Epoch 27/100\n",
            " 1/18 [>.............................] - ETA: 0s - loss: 125.1879 - mae: 125.1879INFO:tensorflow:Assets written to: model_experiments/model_1_dense/assets\n",
            "18/18 [==============================] - 1s 33ms/step - loss: 113.0271 - mae: 113.0271 - val_loss: 609.6249 - val_mae: 609.6249\n",
            "Epoch 28/100\n",
            "18/18 [==============================] - 0s 5ms/step - loss: 112.5256 - mae: 112.5256 - val_loss: 633.0964 - val_mae: 633.0964\n",
            "Epoch 29/100\n",
            " 1/18 [>.............................] - ETA: 0s - loss: 131.1239 - mae: 131.1239INFO:tensorflow:Assets written to: model_experiments/model_1_dense/assets\n",
            "18/18 [==============================] - 1s 38ms/step - loss: 112.7335 - mae: 112.7335 - val_loss: 599.6439 - val_mae: 599.6439\n",
            "Epoch 30/100\n",
            "18/18 [==============================] - 0s 4ms/step - loss: 110.7194 - mae: 110.7194 - val_loss: 599.6851 - val_mae: 599.6851\n",
            "Epoch 31/100\n",
            "18/18 [==============================] - 0s 5ms/step - loss: 110.5846 - mae: 110.5846 - val_loss: 647.8738 - val_mae: 647.8738\n",
            "Epoch 32/100\n",
            "18/18 [==============================] - 0s 4ms/step - loss: 112.1757 - mae: 112.1757 - val_loss: 615.5276 - val_mae: 615.5276\n",
            "Epoch 33/100\n",
            " 1/18 [>.............................] - ETA: 0s - loss: 104.9823 - mae: 104.9823INFO:tensorflow:Assets written to: model_experiments/model_1_dense/assets\n",
            "18/18 [==============================] - 1s 33ms/step - loss: 111.3885 - mae: 111.3885 - val_loss: 585.7969 - val_mae: 585.7969\n",
            "Epoch 34/100\n",
            " 1/18 [>.............................] - ETA: 0s - loss: 76.3280 - mae: 76.3280INFO:tensorflow:Assets written to: model_experiments/model_1_dense/assets\n",
            "18/18 [==============================] - 1s 33ms/step - loss: 111.6288 - mae: 111.6288 - val_loss: 583.6302 - val_mae: 583.6302\n",
            "Epoch 35/100\n",
            " 1/18 [>.............................] - ETA: 0s - loss: 112.9051 - mae: 112.9051INFO:tensorflow:Assets written to: model_experiments/model_1_dense/assets\n",
            "18/18 [==============================] - 1s 31ms/step - loss: 107.8081 - mae: 107.8081 - val_loss: 581.5273 - val_mae: 581.5273\n",
            "Epoch 36/100\n",
            " 1/18 [>.............................] - ETA: 0s - loss: 123.2122 - mae: 123.2122INFO:tensorflow:Assets written to: model_experiments/model_1_dense/assets\n",
            "18/18 [==============================] - 1s 32ms/step - loss: 108.0625 - mae: 108.0625 - val_loss: 579.7316 - val_mae: 579.7316\n",
            "Epoch 37/100\n",
            "18/18 [==============================] - 0s 4ms/step - loss: 107.6604 - mae: 107.6604 - val_loss: 587.2300 - val_mae: 587.2300\n",
            "Epoch 38/100\n",
            "18/18 [==============================] - 0s 4ms/step - loss: 108.3223 - mae: 108.3223 - val_loss: 623.2068 - val_mae: 623.2068\n",
            "Epoch 39/100\n",
            " 1/18 [>.............................] - ETA: 0s - loss: 148.6913 - mae: 148.6913INFO:tensorflow:Assets written to: model_experiments/model_1_dense/assets\n",
            "18/18 [==============================] - 1s 47ms/step - loss: 109.3357 - mae: 109.3357 - val_loss: 579.2983 - val_mae: 579.2983\n",
            "Epoch 40/100\n",
            "18/18 [==============================] - 0s 3ms/step - loss: 109.5141 - mae: 109.5141 - val_loss: 593.4736 - val_mae: 593.4736\n",
            "Epoch 41/100\n",
            "18/18 [==============================] - 0s 4ms/step - loss: 107.7538 - mae: 107.7538 - val_loss: 590.1997 - val_mae: 590.1997\n",
            "Epoch 42/100\n",
            "18/18 [==============================] - 0s 4ms/step - loss: 107.1558 - mae: 107.1558 - val_loss: 615.6075 - val_mae: 615.6075\n",
            "Epoch 43/100\n",
            " 1/18 [>.............................] - ETA: 0s - loss: 102.5764 - mae: 102.5764INFO:tensorflow:Assets written to: model_experiments/model_1_dense/assets\n",
            "18/18 [==============================] - 1s 33ms/step - loss: 108.6607 - mae: 108.6607 - val_loss: 571.0396 - val_mae: 571.0396\n",
            "Epoch 44/100\n",
            "18/18 [==============================] - 0s 5ms/step - loss: 106.5385 - mae: 106.5385 - val_loss: 571.0580 - val_mae: 571.0580\n",
            "Epoch 45/100\n",
            " 1/18 [>.............................] - ETA: 0s - loss: 93.3259 - mae: 93.3259INFO:tensorflow:Assets written to: model_experiments/model_1_dense/assets\n",
            "18/18 [==============================] - 1s 33ms/step - loss: 107.0981 - mae: 107.0981 - val_loss: 570.6686 - val_mae: 570.6686\n",
            "Epoch 46/100\n",
            " 1/18 [>.............................] - ETA: 0s - loss: 167.7240 - mae: 167.7240INFO:tensorflow:Assets written to: model_experiments/model_1_dense/assets\n",
            "18/18 [==============================] - 1s 34ms/step - loss: 105.8488 - mae: 105.8488 - val_loss: 568.7150 - val_mae: 568.7150\n",
            "Epoch 47/100\n",
            "18/18 [==============================] - 0s 5ms/step - loss: 107.4515 - mae: 107.4515 - val_loss: 581.9829 - val_mae: 581.9829\n",
            "Epoch 48/100\n",
            " 1/18 [>.............................] - ETA: 0s - loss: 133.1335 - mae: 133.1335INFO:tensorflow:Assets written to: model_experiments/model_1_dense/assets\n",
            "18/18 [==============================] - 1s 32ms/step - loss: 105.6542 - mae: 105.6542 - val_loss: 568.5554 - val_mae: 568.5554\n",
            "Epoch 49/100\n",
            "18/18 [==============================] - 0s 4ms/step - loss: 106.8041 - mae: 106.8041 - val_loss: 571.5084 - val_mae: 571.5084\n",
            "Epoch 50/100\n",
            "18/18 [==============================] - 0s 4ms/step - loss: 106.3648 - mae: 106.3648 - val_loss: 583.0922 - val_mae: 583.0922\n",
            "Epoch 51/100\n",
            "18/18 [==============================] - 0s 5ms/step - loss: 104.8444 - mae: 104.8444 - val_loss: 573.6686 - val_mae: 573.6686\n",
            "Epoch 52/100\n",
            "18/18 [==============================] - 0s 5ms/step - loss: 107.5598 - mae: 107.5598 - val_loss: 669.6864 - val_mae: 669.6864\n",
            "Epoch 53/100\n",
            "18/18 [==============================] - 0s 4ms/step - loss: 114.9040 - mae: 114.9040 - val_loss: 570.7737 - val_mae: 570.7737\n",
            "Epoch 54/100\n",
            "18/18 [==============================] - 0s 5ms/step - loss: 107.9812 - mae: 107.9812 - val_loss: 590.5238 - val_mae: 590.5238\n",
            "Epoch 55/100\n",
            " 1/18 [>.............................] - ETA: 0s - loss: 93.1442 - mae: 93.1442INFO:tensorflow:Assets written to: model_experiments/model_1_dense/assets\n",
            "18/18 [==============================] - 1s 32ms/step - loss: 105.4377 - mae: 105.4377 - val_loss: 565.6327 - val_mae: 565.6327\n",
            "Epoch 56/100\n",
            "18/18 [==============================] - 0s 4ms/step - loss: 105.4515 - mae: 105.4515 - val_loss: 567.0490 - val_mae: 567.0490\n",
            "Epoch 57/100\n",
            "18/18 [==============================] - 0s 4ms/step - loss: 105.5315 - mae: 105.5315 - val_loss: 569.0681 - val_mae: 569.0681\n",
            "Epoch 58/100\n",
            "18/18 [==============================] - 0s 4ms/step - loss: 105.1209 - mae: 105.1209 - val_loss: 603.5989 - val_mae: 603.5989\n",
            "Epoch 59/100\n",
            "18/18 [==============================] - 0s 4ms/step - loss: 105.6608 - mae: 105.6608 - val_loss: 566.2146 - val_mae: 566.2146\n",
            "Epoch 60/100\n",
            "18/18 [==============================] - 0s 4ms/step - loss: 107.3720 - mae: 107.3720 - val_loss: 638.5601 - val_mae: 638.5601\n",
            "Epoch 61/100\n",
            "18/18 [==============================] - 0s 4ms/step - loss: 110.8684 - mae: 110.8684 - val_loss: 606.7117 - val_mae: 606.7117\n",
            "Epoch 62/100\n",
            "18/18 [==============================] - 0s 4ms/step - loss: 105.2193 - mae: 105.2193 - val_loss: 569.9937 - val_mae: 569.9937\n",
            "Epoch 63/100\n",
            "18/18 [==============================] - 0s 4ms/step - loss: 105.0109 - mae: 105.0109 - val_loss: 575.9584 - val_mae: 575.9584\n",
            "Epoch 64/100\n",
            "18/18 [==============================] - 0s 4ms/step - loss: 105.8306 - mae: 105.8306 - val_loss: 565.7565 - val_mae: 565.7565\n",
            "Epoch 65/100\n",
            " 1/18 [>.............................] - ETA: 0s - loss: 106.3330 - mae: 106.3330INFO:tensorflow:Assets written to: model_experiments/model_1_dense/assets\n",
            "18/18 [==============================] - 1s 32ms/step - loss: 105.0995 - mae: 105.0995 - val_loss: 565.0679 - val_mae: 565.0679\n",
            "Epoch 66/100\n",
            "18/18 [==============================] - 0s 5ms/step - loss: 105.1270 - mae: 105.1270 - val_loss: 565.5032 - val_mae: 565.5032\n",
            "Epoch 67/100\n",
            "18/18 [==============================] - 0s 4ms/step - loss: 105.2775 - mae: 105.2775 - val_loss: 577.9775 - val_mae: 577.9775\n",
            "Epoch 68/100\n",
            "18/18 [==============================] - 0s 3ms/step - loss: 105.5112 - mae: 105.5112 - val_loss: 569.6322 - val_mae: 569.6322\n",
            "Epoch 69/100\n",
            " 1/18 [>.............................] - ETA: 0s - loss: 114.6455 - mae: 114.6455INFO:tensorflow:Assets written to: model_experiments/model_1_dense/assets\n",
            "18/18 [==============================] - 1s 31ms/step - loss: 104.8970 - mae: 104.8970 - val_loss: 564.8627 - val_mae: 564.8627\n",
            "Epoch 70/100\n",
            "18/18 [==============================] - 0s 4ms/step - loss: 111.3427 - mae: 111.3427 - val_loss: 572.3642 - val_mae: 572.3642\n",
            "Epoch 71/100\n",
            "18/18 [==============================] - 0s 3ms/step - loss: 106.5457 - mae: 106.5457 - val_loss: 597.5036 - val_mae: 597.5036\n",
            "Epoch 72/100\n",
            "18/18 [==============================] - 0s 3ms/step - loss: 107.0742 - mae: 107.0742 - val_loss: 572.5096 - val_mae: 572.5096\n",
            "Epoch 73/100\n",
            "18/18 [==============================] - 0s 5ms/step - loss: 104.8901 - mae: 104.8901 - val_loss: 565.2878 - val_mae: 565.2878\n",
            "Epoch 74/100\n",
            " 1/18 [>.............................] - ETA: 0s - loss: 91.5769 - mae: 91.5769INFO:tensorflow:Assets written to: model_experiments/model_1_dense/assets\n",
            "18/18 [==============================] - 1s 31ms/step - loss: 105.2619 - mae: 105.2619 - val_loss: 564.8567 - val_mae: 564.8567\n",
            "Epoch 75/100\n",
            "18/18 [==============================] - 0s 3ms/step - loss: 104.4403 - mae: 104.4403 - val_loss: 581.2607 - val_mae: 581.2607\n",
            "Epoch 76/100\n",
            "18/18 [==============================] - 0s 4ms/step - loss: 106.0721 - mae: 106.0721 - val_loss: 573.6189 - val_mae: 573.6189\n",
            "Epoch 77/100\n",
            "18/18 [==============================] - 0s 4ms/step - loss: 105.1290 - mae: 105.1290 - val_loss: 576.5027 - val_mae: 576.5027\n",
            "Epoch 78/100\n",
            "18/18 [==============================] - 0s 3ms/step - loss: 106.2814 - mae: 106.2814 - val_loss: 614.9893 - val_mae: 614.9893\n",
            "Epoch 79/100\n",
            "18/18 [==============================] - 0s 4ms/step - loss: 107.7778 - mae: 107.7778 - val_loss: 598.2684 - val_mae: 598.2684\n",
            "Epoch 80/100\n",
            "18/18 [==============================] - 0s 4ms/step - loss: 109.3117 - mae: 109.3117 - val_loss: 570.6088 - val_mae: 570.6088\n",
            "Epoch 81/100\n",
            "18/18 [==============================] - 0s 3ms/step - loss: 108.6124 - mae: 108.6124 - val_loss: 661.9003 - val_mae: 661.9003\n",
            "Epoch 82/100\n",
            "18/18 [==============================] - 0s 4ms/step - loss: 107.7066 - mae: 107.7066 - val_loss: 566.3059 - val_mae: 566.3059\n",
            "Epoch 83/100\n",
            "18/18 [==============================] - 0s 4ms/step - loss: 108.5187 - mae: 108.5187 - val_loss: 565.8244 - val_mae: 565.8244\n",
            "Epoch 84/100\n",
            "18/18 [==============================] - 0s 5ms/step - loss: 106.3770 - mae: 106.3770 - val_loss: 595.8546 - val_mae: 595.8546\n",
            "Epoch 85/100\n",
            "18/18 [==============================] - 0s 3ms/step - loss: 108.1084 - mae: 108.1084 - val_loss: 565.2864 - val_mae: 565.2864\n",
            "Epoch 86/100\n",
            "18/18 [==============================] - 0s 4ms/step - loss: 105.1804 - mae: 105.1804 - val_loss: 565.5131 - val_mae: 565.5131\n",
            "Epoch 87/100\n",
            "18/18 [==============================] - 0s 4ms/step - loss: 104.4678 - mae: 104.4678 - val_loss: 571.2227 - val_mae: 571.2227\n",
            "Epoch 88/100\n",
            "18/18 [==============================] - 0s 3ms/step - loss: 104.8355 - mae: 104.8355 - val_loss: 578.0383 - val_mae: 578.0383\n",
            "Epoch 89/100\n",
            "18/18 [==============================] - 0s 4ms/step - loss: 109.5070 - mae: 109.5070 - val_loss: 567.7861 - val_mae: 567.7861\n",
            "Epoch 90/100\n",
            "18/18 [==============================] - 0s 4ms/step - loss: 106.3417 - mae: 106.3417 - val_loss: 566.7416 - val_mae: 566.7416\n",
            "Epoch 91/100\n",
            "18/18 [==============================] - 0s 4ms/step - loss: 105.0908 - mae: 105.0908 - val_loss: 575.6476 - val_mae: 575.6476\n",
            "Epoch 92/100\n",
            "18/18 [==============================] - 0s 3ms/step - loss: 104.6809 - mae: 104.6809 - val_loss: 581.0568 - val_mae: 581.0568\n",
            "Epoch 93/100\n",
            "18/18 [==============================] - 0s 5ms/step - loss: 105.8034 - mae: 105.8034 - val_loss: 595.3901 - val_mae: 595.3901\n",
            "Epoch 94/100\n",
            "18/18 [==============================] - 0s 4ms/step - loss: 107.1857 - mae: 107.1857 - val_loss: 608.4109 - val_mae: 608.4109\n",
            "Epoch 95/100\n",
            "18/18 [==============================] - 0s 4ms/step - loss: 105.7562 - mae: 105.7562 - val_loss: 565.2389 - val_mae: 565.2389\n",
            "Epoch 96/100\n",
            "18/18 [==============================] - 0s 5ms/step - loss: 105.0412 - mae: 105.0412 - val_loss: 598.8960 - val_mae: 598.8960\n",
            "Epoch 97/100\n",
            "18/18 [==============================] - 0s 4ms/step - loss: 107.6211 - mae: 107.6211 - val_loss: 666.2365 - val_mae: 666.2365\n",
            "Epoch 98/100\n",
            "18/18 [==============================] - 0s 4ms/step - loss: 108.3203 - mae: 108.3203 - val_loss: 569.2783 - val_mae: 569.2783\n",
            "Epoch 99/100\n",
            "18/18 [==============================] - 0s 5ms/step - loss: 104.3734 - mae: 104.3734 - val_loss: 572.7701 - val_mae: 572.7701\n",
            "Epoch 100/100\n",
            "18/18 [==============================] - 0s 4ms/step - loss: 105.2397 - mae: 105.2397 - val_loss: 569.7734 - val_mae: 569.7734\n"
          ]
        },
        {
          "output_type": "execute_result",
          "data": {
            "text/plain": [
              "<keras.callbacks.History at 0x7f04ffaca550>"
            ]
          },
          "metadata": {},
          "execution_count": 23
        }
      ]
    },
    {
      "cell_type": "code",
      "source": [
        "# Evaluate model on test data\n",
        "model_1.evaluate(test_windows, test_labels)"
      ],
      "metadata": {
        "colab": {
          "base_uri": "https://localhost:8080/"
        },
        "id": "MGDnxf6-xRdZ",
        "outputId": "b7569981-671f-4f95-c2a2-b937d4f1fb05"
      },
      "execution_count": 24,
      "outputs": [
        {
          "output_type": "stream",
          "name": "stdout",
          "text": [
            "18/18 [==============================] - 0s 2ms/step - loss: 569.7734 - mae: 569.7734\n"
          ]
        },
        {
          "output_type": "execute_result",
          "data": {
            "text/plain": [
              "[569.7734375, 569.7734375]"
            ]
          },
          "metadata": {},
          "execution_count": 24
        }
      ]
    },
    {
      "cell_type": "code",
      "source": [
        "# Load in saved best performing model_1 and evaluate on test data\n",
        "model_1 = tf.keras.models.load_model(\"model_experiments/model_1_dense\")\n",
        "model_1.evaluate(test_windows, test_labels)"
      ],
      "metadata": {
        "colab": {
          "base_uri": "https://localhost:8080/"
        },
        "id": "-2RPCHlix1cY",
        "outputId": "9a779c5e-b91d-4501-e171-3014be96b3db"
      },
      "execution_count": 25,
      "outputs": [
        {
          "output_type": "stream",
          "name": "stdout",
          "text": [
            "18/18 [==============================] - 0s 2ms/step - loss: 564.8567 - mae: 564.8567\n"
          ]
        },
        {
          "output_type": "execute_result",
          "data": {
            "text/plain": [
              "[564.856689453125, 564.856689453125]"
            ]
          },
          "metadata": {},
          "execution_count": 25
        }
      ]
    },
    {
      "cell_type": "code",
      "source": [
        "model_1_preds = tf.squeeze(model_1.predict(test_windows))\n",
        "len(model_1_preds), model_1_preds[:10]"
      ],
      "metadata": {
        "colab": {
          "base_uri": "https://localhost:8080/"
        },
        "id": "0CB62CziyB32",
        "outputId": "646b42f8-c12e-45bd-c780-ffb73f9e90df"
      },
      "execution_count": 26,
      "outputs": [
        {
          "output_type": "execute_result",
          "data": {
            "text/plain": [
              "(557, <tf.Tensor: shape=(10,), dtype=float32, numpy=\n",
              " array([9258.936, 8846.577, 8790.443, 9078.188, 8783.84 , 8753.273,\n",
              "        8774.815, 8685.238, 8528.847, 8482.132], dtype=float32)>)"
            ]
          },
          "metadata": {},
          "execution_count": 26
        }
      ]
    },
    {
      "cell_type": "code",
      "source": [
        "def evaluate_preds(y_true, y_pred):\n",
        "  # Make sure float32 (for metric calculations)\n",
        "  y_true = tf.cast(y_true, dtype=tf.float32)\n",
        "  y_pred = tf.cast(y_pred, dtype=tf.float32)\n",
        "\n",
        "  # Calculate various metrics\n",
        "  mae = tf.keras.metrics.mean_absolute_error(y_true, y_pred)\n",
        "  mse = tf.keras.metrics.mean_squared_error(y_true, y_pred) # puts and emphasis on outliers (all errors get squared)\n",
        "  rmse = tf.sqrt(mse)\n",
        "  mape = tf.keras.metrics.mean_absolute_percentage_error(y_true, y_pred)\n",
        "  #mase = mean_absolute_scaled_error(y_true, y_pred)\n",
        "  \n",
        "  return {\"mae\": mae.numpy(),\n",
        "          \"mse\": mse.numpy(),\n",
        "          \"rmse\": rmse.numpy(),\n",
        "          \"mape\": mape.numpy()} #,\"mase\": mase.numpy()}"
      ],
      "metadata": {
        "id": "8JtGgkpS2NdW"
      },
      "execution_count": 27,
      "outputs": []
    },
    {
      "cell_type": "code",
      "source": [
        "# Evaluate preds\n",
        "model_1_results = evaluate_preds(y_true=tf.squeeze(test_labels), # reduce to right shape\n",
        "                                 y_pred=model_1_preds)\n",
        "model_1_results"
      ],
      "metadata": {
        "colab": {
          "base_uri": "https://localhost:8080/"
        },
        "id": "HOUJgpwL2Fjk",
        "outputId": "8b99bfb7-b22e-40d2-e83e-e9ae855b7186"
      },
      "execution_count": 28,
      "outputs": [
        {
          "output_type": "execute_result",
          "data": {
            "text/plain": [
              "{'mae': 564.8567, 'mape': 2.5255516, 'mse': 1147651.1, 'rmse': 1071.2848}"
            ]
          },
          "metadata": {},
          "execution_count": 28
        }
      ]
    },
    {
      "cell_type": "code",
      "source": [
        "# Create a naïve forecast\n",
        "naive_forecast = ytest[:-1] # Naïve forecast equals every value excluding the last value"
      ],
      "metadata": {
        "id": "Y7a7TzDP2sI6"
      },
      "execution_count": 29,
      "outputs": []
    },
    {
      "cell_type": "code",
      "source": [
        "naive_results = evaluate_preds(y_true=ytest[1:],\n",
        "                               y_pred=naive_forecast)\n",
        "naive_results"
      ],
      "metadata": {
        "colab": {
          "base_uri": "https://localhost:8080/"
        },
        "id": "qwSM5cOD2f9t",
        "outputId": "4f805e63-09fe-461a-890c-6e22e9bb1310"
      },
      "execution_count": 30,
      "outputs": [
        {
          "output_type": "execute_result",
          "data": {
            "text/plain": [
              "{'mae': 567.9802, 'mape': 2.5165248, 'mse': 1147547.0, 'rmse': 1071.2362}"
            ]
          },
          "metadata": {},
          "execution_count": 30
        }
      ]
    }
  ]
}